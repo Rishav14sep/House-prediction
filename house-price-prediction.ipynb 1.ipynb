{
  "nbformat": 4,
  "nbformat_minor": 0,
  "metadata": {
    "colab": {
      "provenance": []
    },
    "kernelspec": {
      "name": "python3",
      "display_name": "Python 3"
    },
    "language_info": {
      "name": "python"
    }
  },
  "cells": [
    {
      "cell_type": "code",
      "source": [
        "numerical_features = data.select_dtypes(include=[\"int64\", \"float64\"]).columns.to_list()\n",
        "print(numerical_features)"
      ],
      "metadata": {
        "colab": {
          "base_uri": "https://localhost:8080/"
        },
        "id": "RZ-Yy6xIS59s",
        "outputId": "ff74ccc8-502c-4fb9-ad9f-edc90d267d2e"
      },
      "execution_count": null,
      "outputs": [
        {
          "output_type": "stream",
          "name": "stdout",
          "text": [
            "['price', 'area', 'bedrooms', 'bathrooms', 'stories', 'parking']\n"
          ]
        }
      ]
    },
    {
      "cell_type": "code",
      "execution_count": null,
      "metadata": {
        "colab": {
          "base_uri": "https://localhost:8080/"
        },
        "id": "PFp5l1Dbh2ad",
        "outputId": "616efd2a-522c-4d4f-ffe4-4d069230498a"
      },
      "outputs": [
        {
          "output_type": "stream",
          "name": "stdout",
          "text": [
            "        price  area  bedrooms  bathrooms  stories mainroad guestroom basement  \\\n",
            "0    13300000  7420         4          2        3      yes        no       no   \n",
            "1    12250000  8960         4          4        4      yes        no       no   \n",
            "2    12250000  9960         3          2        2      yes        no      yes   \n",
            "3    12215000  7500         4          2        2      yes        no      yes   \n",
            "4    11410000  7420         4          1        2      yes       yes      yes   \n",
            "..        ...   ...       ...        ...      ...      ...       ...      ...   \n",
            "540   1820000  3000         2          1        1      yes        no      yes   \n",
            "541   1767150  2400         3          1        1       no        no       no   \n",
            "542   1750000  3620         2          1        1      yes        no       no   \n",
            "543   1750000  2910         3          1        1       no        no       no   \n",
            "544   1750000  3850         3          1        2      yes        no       no   \n",
            "\n",
            "    hotwaterheating airconditioning  parking prefarea furnishingstatus  \n",
            "0                no             yes        2      yes        furnished  \n",
            "1                no             yes        3       no        furnished  \n",
            "2                no              no        2      yes   semi-furnished  \n",
            "3                no             yes        3      yes        furnished  \n",
            "4                no             yes        2       no        furnished  \n",
            "..              ...             ...      ...      ...              ...  \n",
            "540              no              no        2       no      unfurnished  \n",
            "541              no              no        0       no   semi-furnished  \n",
            "542              no              no        0       no      unfurnished  \n",
            "543              no              no        0       no        furnished  \n",
            "544              no              no        0       no      unfurnished  \n",
            "\n",
            "[545 rows x 13 columns]\n"
          ]
        }
      ],
      "source": [
        "import pandas as pd\n",
        "import numpy as np\n",
        "import seaborn as snr\n",
        "data=pd.read_csv(\"/content/Housing (1).csv\")\n",
        "data.head()\n",
        "print(data)"
      ]
    },
    {
      "cell_type": "code",
      "source": [
        "pd.isnull(data).sum"
      ],
      "metadata": {
        "colab": {
          "base_uri": "https://localhost:8080/"
        },
        "id": "Q9xCXMG6_81i",
        "outputId": "bcc55d2e-e620-43c5-86c2-ba10da3125c8"
      },
      "execution_count": null,
      "outputs": [
        {
          "output_type": "execute_result",
          "data": {
            "text/plain": [
              "<bound method NDFrame._add_numeric_operations.<locals>.sum of      price   area  bedrooms  bathrooms  stories  mainroad  guestroom  \\\n",
              "0    False  False     False      False    False     False      False   \n",
              "1    False  False     False      False    False     False      False   \n",
              "2    False  False     False      False    False     False      False   \n",
              "3    False  False     False      False    False     False      False   \n",
              "4    False  False     False      False    False     False      False   \n",
              "..     ...    ...       ...        ...      ...       ...        ...   \n",
              "540  False  False     False      False    False     False      False   \n",
              "541  False  False     False      False    False     False      False   \n",
              "542  False  False     False      False    False     False      False   \n",
              "543  False  False     False      False    False     False      False   \n",
              "544  False  False     False      False    False     False      False   \n",
              "\n",
              "     basement  hotwaterheating  airconditioning  parking  prefarea  \\\n",
              "0       False            False            False    False     False   \n",
              "1       False            False            False    False     False   \n",
              "2       False            False            False    False     False   \n",
              "3       False            False            False    False     False   \n",
              "4       False            False            False    False     False   \n",
              "..        ...              ...              ...      ...       ...   \n",
              "540     False            False            False    False     False   \n",
              "541     False            False            False    False     False   \n",
              "542     False            False            False    False     False   \n",
              "543     False            False            False    False     False   \n",
              "544     False            False            False    False     False   \n",
              "\n",
              "     furnishingstatus  \n",
              "0               False  \n",
              "1               False  \n",
              "2               False  \n",
              "3               False  \n",
              "4               False  \n",
              "..                ...  \n",
              "540             False  \n",
              "541             False  \n",
              "542             False  \n",
              "543             False  \n",
              "544             False  \n",
              "\n",
              "[545 rows x 13 columns]>"
            ]
          },
          "metadata": {},
          "execution_count": 2
        }
      ]
    },
    {
      "cell_type": "code",
      "source": [
        "data.isna().sum()"
      ],
      "metadata": {
        "colab": {
          "base_uri": "https://localhost:8080/"
        },
        "id": "JyKFCWsH8nP6",
        "outputId": "f2f965df-eb42-4239-e6f4-3f16b00dbaa3"
      },
      "execution_count": null,
      "outputs": [
        {
          "output_type": "execute_result",
          "data": {
            "text/plain": [
              "price               0\n",
              "area                0\n",
              "bedrooms            0\n",
              "bathrooms           0\n",
              "stories             0\n",
              "mainroad            0\n",
              "guestroom           0\n",
              "basement            0\n",
              "hotwaterheating     0\n",
              "airconditioning     0\n",
              "parking             0\n",
              "prefarea            0\n",
              "furnishingstatus    0\n",
              "dtype: int64"
            ]
          },
          "metadata": {},
          "execution_count": 23
        }
      ]
    },
    {
      "cell_type": "code",
      "source": [
        "data.info()"
      ],
      "metadata": {
        "colab": {
          "base_uri": "https://localhost:8080/"
        },
        "id": "YLI6hjVY85r7",
        "outputId": "c55c8773-6a8d-4518-9007-295adb87f538"
      },
      "execution_count": null,
      "outputs": [
        {
          "output_type": "stream",
          "name": "stdout",
          "text": [
            "<class 'pandas.core.frame.DataFrame'>\n",
            "RangeIndex: 545 entries, 0 to 544\n",
            "Data columns (total 13 columns):\n",
            " #   Column            Non-Null Count  Dtype \n",
            "---  ------            --------------  ----- \n",
            " 0   price             545 non-null    int64 \n",
            " 1   area              545 non-null    int64 \n",
            " 2   bedrooms          545 non-null    int64 \n",
            " 3   bathrooms         545 non-null    int64 \n",
            " 4   stories           545 non-null    int64 \n",
            " 5   mainroad          545 non-null    object\n",
            " 6   guestroom         545 non-null    object\n",
            " 7   basement          545 non-null    object\n",
            " 8   hotwaterheating   545 non-null    object\n",
            " 9   airconditioning   545 non-null    object\n",
            " 10  parking           545 non-null    int64 \n",
            " 11  prefarea          545 non-null    object\n",
            " 12  furnishingstatus  545 non-null    object\n",
            "dtypes: int64(6), object(7)\n",
            "memory usage: 55.5+ KB\n"
          ]
        }
      ]
    },
    {
      "cell_type": "code",
      "source": [
        "data['mainroad']=data['mainroad'].apply({'yes':1,'no':0}.get)"
      ],
      "metadata": {
        "id": "XgrNLAFLiQe4"
      },
      "execution_count": null,
      "outputs": []
    },
    {
      "cell_type": "code",
      "source": [
        "data['basement']=data['basement'].apply({'yes':1,'no':0}.get)"
      ],
      "metadata": {
        "id": "R2blQHWojRb3"
      },
      "execution_count": null,
      "outputs": []
    },
    {
      "cell_type": "code",
      "source": [
        "data['hotwaterheating']=data['hotwaterheating'].apply({'yes':1,'no':0}.get)"
      ],
      "metadata": {
        "id": "ixdjnpsCl5qS"
      },
      "execution_count": null,
      "outputs": []
    },
    {
      "cell_type": "code",
      "source": [
        "data['airconditioning']=data['airconditioning'].apply({'yes':1,'no':0}.get)"
      ],
      "metadata": {
        "id": "bf0KAhB2q3Qg"
      },
      "execution_count": null,
      "outputs": []
    },
    {
      "cell_type": "code",
      "source": [
        "data['prefarea']=data['prefarea'].apply({'yes':1,'no':0}.get)"
      ],
      "metadata": {
        "id": "1GCqkzLBrZZv"
      },
      "execution_count": null,
      "outputs": []
    },
    {
      "cell_type": "code",
      "source": [
        "data['guestroom']=data['guestroom'].apply({'yes':1,'no':0}.get)"
      ],
      "metadata": {
        "id": "XkNpbIs_wTQd"
      },
      "execution_count": null,
      "outputs": []
    },
    {
      "cell_type": "code",
      "source": [
        "data['furnishingstatus']=data['furnishingstatus'].apply({'furnished':1,'semi-furnished':0,'unfurnished':3}.get)"
      ],
      "metadata": {
        "id": "vyg3IjQ8w1z4"
      },
      "execution_count": null,
      "outputs": []
    },
    {
      "cell_type": "code",
      "source": [
        "data.head()"
      ],
      "metadata": {
        "colab": {
          "base_uri": "https://localhost:8080/",
          "height": 270
        },
        "id": "oH6bDOM0vWFJ",
        "outputId": "d3f9dfb4-1cb5-4396-8810-8303fe6e2a54"
      },
      "execution_count": null,
      "outputs": [
        {
          "output_type": "execute_result",
          "data": {
            "text/plain": [
              "      price  area  bedrooms  bathrooms  stories  mainroad  guestroom  \\\n",
              "0  13300000  7420         4          2        3         1          0   \n",
              "1  12250000  8960         4          4        4         1          0   \n",
              "2  12250000  9960         3          2        2         1          0   \n",
              "3  12215000  7500         4          2        2         1          0   \n",
              "4  11410000  7420         4          1        2         1          1   \n",
              "\n",
              "   basement  hotwaterheating  airconditioning  parking  prefarea  \\\n",
              "0         0                0                1        2         1   \n",
              "1         0                0                1        3         0   \n",
              "2         1                0                0        2         1   \n",
              "3         1                0                1        3         1   \n",
              "4         1                0                1        2         0   \n",
              "\n",
              "   furnishingstatus  \n",
              "0                 1  \n",
              "1                 1  \n",
              "2                 0  \n",
              "3                 1  \n",
              "4                 1  "
            ],
            "text/html": [
              "\n",
              "  <div id=\"df-b39f3385-c2f3-44a3-96e2-53ef9a91f6e1\">\n",
              "    <div class=\"colab-df-container\">\n",
              "      <div>\n",
              "<style scoped>\n",
              "    .dataframe tbody tr th:only-of-type {\n",
              "        vertical-align: middle;\n",
              "    }\n",
              "\n",
              "    .dataframe tbody tr th {\n",
              "        vertical-align: top;\n",
              "    }\n",
              "\n",
              "    .dataframe thead th {\n",
              "        text-align: right;\n",
              "    }\n",
              "</style>\n",
              "<table border=\"1\" class=\"dataframe\">\n",
              "  <thead>\n",
              "    <tr style=\"text-align: right;\">\n",
              "      <th></th>\n",
              "      <th>price</th>\n",
              "      <th>area</th>\n",
              "      <th>bedrooms</th>\n",
              "      <th>bathrooms</th>\n",
              "      <th>stories</th>\n",
              "      <th>mainroad</th>\n",
              "      <th>guestroom</th>\n",
              "      <th>basement</th>\n",
              "      <th>hotwaterheating</th>\n",
              "      <th>airconditioning</th>\n",
              "      <th>parking</th>\n",
              "      <th>prefarea</th>\n",
              "      <th>furnishingstatus</th>\n",
              "    </tr>\n",
              "  </thead>\n",
              "  <tbody>\n",
              "    <tr>\n",
              "      <th>0</th>\n",
              "      <td>13300000</td>\n",
              "      <td>7420</td>\n",
              "      <td>4</td>\n",
              "      <td>2</td>\n",
              "      <td>3</td>\n",
              "      <td>1</td>\n",
              "      <td>0</td>\n",
              "      <td>0</td>\n",
              "      <td>0</td>\n",
              "      <td>1</td>\n",
              "      <td>2</td>\n",
              "      <td>1</td>\n",
              "      <td>1</td>\n",
              "    </tr>\n",
              "    <tr>\n",
              "      <th>1</th>\n",
              "      <td>12250000</td>\n",
              "      <td>8960</td>\n",
              "      <td>4</td>\n",
              "      <td>4</td>\n",
              "      <td>4</td>\n",
              "      <td>1</td>\n",
              "      <td>0</td>\n",
              "      <td>0</td>\n",
              "      <td>0</td>\n",
              "      <td>1</td>\n",
              "      <td>3</td>\n",
              "      <td>0</td>\n",
              "      <td>1</td>\n",
              "    </tr>\n",
              "    <tr>\n",
              "      <th>2</th>\n",
              "      <td>12250000</td>\n",
              "      <td>9960</td>\n",
              "      <td>3</td>\n",
              "      <td>2</td>\n",
              "      <td>2</td>\n",
              "      <td>1</td>\n",
              "      <td>0</td>\n",
              "      <td>1</td>\n",
              "      <td>0</td>\n",
              "      <td>0</td>\n",
              "      <td>2</td>\n",
              "      <td>1</td>\n",
              "      <td>0</td>\n",
              "    </tr>\n",
              "    <tr>\n",
              "      <th>3</th>\n",
              "      <td>12215000</td>\n",
              "      <td>7500</td>\n",
              "      <td>4</td>\n",
              "      <td>2</td>\n",
              "      <td>2</td>\n",
              "      <td>1</td>\n",
              "      <td>0</td>\n",
              "      <td>1</td>\n",
              "      <td>0</td>\n",
              "      <td>1</td>\n",
              "      <td>3</td>\n",
              "      <td>1</td>\n",
              "      <td>1</td>\n",
              "    </tr>\n",
              "    <tr>\n",
              "      <th>4</th>\n",
              "      <td>11410000</td>\n",
              "      <td>7420</td>\n",
              "      <td>4</td>\n",
              "      <td>1</td>\n",
              "      <td>2</td>\n",
              "      <td>1</td>\n",
              "      <td>1</td>\n",
              "      <td>1</td>\n",
              "      <td>0</td>\n",
              "      <td>1</td>\n",
              "      <td>2</td>\n",
              "      <td>0</td>\n",
              "      <td>1</td>\n",
              "    </tr>\n",
              "  </tbody>\n",
              "</table>\n",
              "</div>\n",
              "      <button class=\"colab-df-convert\" onclick=\"convertToInteractive('df-b39f3385-c2f3-44a3-96e2-53ef9a91f6e1')\"\n",
              "              title=\"Convert this dataframe to an interactive table.\"\n",
              "              style=\"display:none;\">\n",
              "        \n",
              "  <svg xmlns=\"http://www.w3.org/2000/svg\" height=\"24px\"viewBox=\"0 0 24 24\"\n",
              "       width=\"24px\">\n",
              "    <path d=\"M0 0h24v24H0V0z\" fill=\"none\"/>\n",
              "    <path d=\"M18.56 5.44l.94 2.06.94-2.06 2.06-.94-2.06-.94-.94-2.06-.94 2.06-2.06.94zm-11 1L8.5 8.5l.94-2.06 2.06-.94-2.06-.94L8.5 2.5l-.94 2.06-2.06.94zm10 10l.94 2.06.94-2.06 2.06-.94-2.06-.94-.94-2.06-.94 2.06-2.06.94z\"/><path d=\"M17.41 7.96l-1.37-1.37c-.4-.4-.92-.59-1.43-.59-.52 0-1.04.2-1.43.59L10.3 9.45l-7.72 7.72c-.78.78-.78 2.05 0 2.83L4 21.41c.39.39.9.59 1.41.59.51 0 1.02-.2 1.41-.59l7.78-7.78 2.81-2.81c.8-.78.8-2.07 0-2.86zM5.41 20L4 18.59l7.72-7.72 1.47 1.35L5.41 20z\"/>\n",
              "  </svg>\n",
              "      </button>\n",
              "      \n",
              "  <style>\n",
              "    .colab-df-container {\n",
              "      display:flex;\n",
              "      flex-wrap:wrap;\n",
              "      gap: 12px;\n",
              "    }\n",
              "\n",
              "    .colab-df-convert {\n",
              "      background-color: #E8F0FE;\n",
              "      border: none;\n",
              "      border-radius: 50%;\n",
              "      cursor: pointer;\n",
              "      display: none;\n",
              "      fill: #1967D2;\n",
              "      height: 32px;\n",
              "      padding: 0 0 0 0;\n",
              "      width: 32px;\n",
              "    }\n",
              "\n",
              "    .colab-df-convert:hover {\n",
              "      background-color: #E2EBFA;\n",
              "      box-shadow: 0px 1px 2px rgba(60, 64, 67, 0.3), 0px 1px 3px 1px rgba(60, 64, 67, 0.15);\n",
              "      fill: #174EA6;\n",
              "    }\n",
              "\n",
              "    [theme=dark] .colab-df-convert {\n",
              "      background-color: #3B4455;\n",
              "      fill: #D2E3FC;\n",
              "    }\n",
              "\n",
              "    [theme=dark] .colab-df-convert:hover {\n",
              "      background-color: #434B5C;\n",
              "      box-shadow: 0px 1px 3px 1px rgba(0, 0, 0, 0.15);\n",
              "      filter: drop-shadow(0px 1px 2px rgba(0, 0, 0, 0.3));\n",
              "      fill: #FFFFFF;\n",
              "    }\n",
              "  </style>\n",
              "\n",
              "      <script>\n",
              "        const buttonEl =\n",
              "          document.querySelector('#df-b39f3385-c2f3-44a3-96e2-53ef9a91f6e1 button.colab-df-convert');\n",
              "        buttonEl.style.display =\n",
              "          google.colab.kernel.accessAllowed ? 'block' : 'none';\n",
              "\n",
              "        async function convertToInteractive(key) {\n",
              "          const element = document.querySelector('#df-b39f3385-c2f3-44a3-96e2-53ef9a91f6e1');\n",
              "          const dataTable =\n",
              "            await google.colab.kernel.invokeFunction('convertToInteractive',\n",
              "                                                     [key], {});\n",
              "          if (!dataTable) return;\n",
              "\n",
              "          const docLinkHtml = 'Like what you see? Visit the ' +\n",
              "            '<a target=\"_blank\" href=https://colab.research.google.com/notebooks/data_table.ipynb>data table notebook</a>'\n",
              "            + ' to learn more about interactive tables.';\n",
              "          element.innerHTML = '';\n",
              "          dataTable['output_type'] = 'display_data';\n",
              "          await google.colab.output.renderOutput(dataTable, element);\n",
              "          const docLink = document.createElement('div');\n",
              "          docLink.innerHTML = docLinkHtml;\n",
              "          element.appendChild(docLink);\n",
              "        }\n",
              "      </script>\n",
              "    </div>\n",
              "  </div>\n",
              "  "
            ]
          },
          "metadata": {},
          "execution_count": 9
        }
      ]
    },
    {
      "cell_type": "code",
      "source": [
        "x=data[['area','bedrooms','bathrooms','stories','mainroad','guestroom','basement','hotwaterheating','airconditioning','parking','furnishingstatus']]"
      ],
      "metadata": {
        "id": "WOcHUkHZyylp"
      },
      "execution_count": null,
      "outputs": []
    },
    {
      "cell_type": "code",
      "source": [
        "y=data['price']"
      ],
      "metadata": {
        "id": "6idkbdrhQFcr"
      },
      "execution_count": null,
      "outputs": []
    },
    {
      "cell_type": "code",
      "source": [
        "from sklearn.model_selection import train_test_split\n",
        "x_test,x_train,y_test,y_train=train_test_split(x,y,test_size=0.2)"
      ],
      "metadata": {
        "id": "s6a86Zv0QNnt"
      },
      "execution_count": null,
      "outputs": []
    },
    {
      "cell_type": "code",
      "source": [
        "from sklearn.linear_model import LinearRegression\n",
        "reg=LinearRegression()"
      ],
      "metadata": {
        "id": "0Yd-_vnSREXP"
      },
      "execution_count": null,
      "outputs": []
    },
    {
      "cell_type": "code",
      "source": [
        "reg.fit(x_train,y_train)"
      ],
      "metadata": {
        "colab": {
          "base_uri": "https://localhost:8080/"
        },
        "id": "clB0HeK2RZ4z",
        "outputId": "e899992c-2840-4d0d-cac3-569a6e6504c1"
      },
      "execution_count": null,
      "outputs": [
        {
          "output_type": "execute_result",
          "data": {
            "text/plain": [
              "LinearRegression()"
            ]
          },
          "metadata": {},
          "execution_count": 14
        }
      ]
    },
    {
      "cell_type": "code",
      "source": [
        "prediction=reg.predict(x_test)"
      ],
      "metadata": {
        "id": "xwoEMAb7EM8F"
      },
      "execution_count": null,
      "outputs": []
    },
    {
      "cell_type": "code",
      "source": [
        "print(prediction)"
      ],
      "metadata": {
        "colab": {
          "base_uri": "https://localhost:8080/"
        },
        "id": "bwMw3BEgEbzz",
        "outputId": "ac2a6bbc-b195-41e8-9bf6-11891e182984"
      },
      "execution_count": null,
      "outputs": [
        {
          "output_type": "stream",
          "name": "stdout",
          "text": [
            "[3988596.47521099 4260454.68738496 2922355.04719803 7754885.84944877\n",
            " 2916407.58476946 7646469.23729471 3196045.75339638 5564343.2921008\n",
            " 4995341.06644092 3258046.08495746 6457606.31357695 4437421.30084565\n",
            " 4233162.71794775 7134643.12133732 2633145.38199224 3770345.23012064\n",
            " 2861393.5573051  3332729.95476999 5561825.38300241 6888291.80090327\n",
            " 5307180.71834295 5244376.94626047 7359414.76586232 4496768.14423475\n",
            " 3518438.50401179 6017211.50788375 4014684.00091433 4279466.51392428\n",
            " 6957011.17969546 5209523.80231511 4124783.07533335 3716431.18007002\n",
            " 4444069.25936946 4683919.14943432 4322735.89239046 5200662.56564108\n",
            " 5082779.10068743 2826805.72684075 6683427.06131293 4587450.72062272\n",
            " 3988944.8251293  3086498.54061981 3333967.31710746 5474233.41370823\n",
            " 5513315.79462816 4830805.89985005 4737336.53756294 2596725.44294757\n",
            " 3305676.30395975 3266989.38418066 3985625.77730331 5893003.86227914\n",
            " 6690031.41512124 4985590.40827719 3880788.35023325 6916132.18065144\n",
            " 6408257.91904065 6918331.76054649 3613597.90286906 3771655.20026325\n",
            " 3378554.12147627 6112710.21847731 4566294.30706237 4645248.92281498\n",
            " 7083312.4274763  4920534.1616189  5624528.55706692 2554273.00892332\n",
            " 3374411.52381477 4762327.89803847 2684727.26085204 3253536.1560913\n",
            " 3283413.88646453 4546270.11977785 5367772.69212686 3338912.18253087\n",
            " 2794484.60498358 2978389.25454889 3749242.07504559 4907158.89766647\n",
            " 2859906.69169795 5722325.19609542 3613792.38121493 5866019.29683087\n",
            " 3291238.13600028 5192567.60530817 7712746.35241695 8237509.10272925\n",
            " 5528570.5665007  5190849.78440326 4280058.5212555  2744794.87971162\n",
            " 4690299.26608013 6716400.29510804 6428699.95710349 3648546.82750228\n",
            " 5011952.01034181 5406473.22671755 3328409.7761789  5853115.93906719\n",
            " 3122763.90500265 3589321.70648617 2709343.34387631 4709265.34888894\n",
            " 5686506.37610976 3731399.68775985 4817724.96586188 3770563.37766219\n",
            " 4834484.66336122 3847985.8025557  5133095.14712764 3178556.87741419\n",
            " 5620388.45215397 3803598.70142366 7415802.0421678  3045218.01619994\n",
            " 3227623.44244997 6140275.33464847 3759600.80225088 4185931.75018293\n",
            " 5596540.4760987  3012686.03331418 6811279.22905455 2493629.51819031\n",
            " 6059585.8760664  7925975.2458888  4974364.20111397 3501611.16317657\n",
            " 5190595.71246982 4348172.38502673 4258501.12835799 3705487.05752168\n",
            " 5130078.68319614 4739596.39007618 2270209.75561858 2886670.27262656\n",
            " 7073322.21900461 3191465.63387577 2916407.58476946 4868751.43050753\n",
            " 2954711.19648379 5828703.78491216 5594121.17085565 4454801.6824269\n",
            " 5725471.30512888 4162343.66289373 6468850.0435321  3891323.7722452\n",
            " 3693560.440406   3267839.47474002 6650675.45134379 4323527.73666568\n",
            " 5598597.47396577 3059146.68305535 4892419.73636095 3972783.38147823\n",
            " 7386825.30551228 3674664.4047721  4106629.21539956 6269658.89001927\n",
            " 2867917.64147531 3298595.48722758 7022272.4887314  3313082.70271718\n",
            " 3320226.96087127 6613001.9498313  3395689.29091596 4543785.96644303\n",
            " 2203300.80329706 4666276.00056782 6985674.55941111 3380770.59998588\n",
            " 5045733.75025692 4617792.20621811 3824931.80277963 3213378.69648292\n",
            " 4564506.27639796 3296748.58380501 4845585.49089761 3261409.73767177\n",
            " 3669843.45162406 3536128.38485172 2996984.87941527 3228359.29238822\n",
            " 4548563.85961049 3172197.80124308 6006768.68526877 3526427.34820881\n",
            " 3668861.43360309 3806493.98378598 6359990.8550506  3012763.77935223\n",
            " 3199604.96335687 3799374.62160359 3676005.69175719 6274121.1685698\n",
            " 3630493.83133175 6925704.67311896 2864218.60195867 3518034.47313458\n",
            " 4208669.72775222 5524208.88110938 4140247.16311271 6133479.17103787\n",
            " 3341198.61912371 7362286.96852606 5673648.13442491 6544730.70907015\n",
            " 5318058.89311012 6693865.57344129 5136771.95421911 5079565.81916517\n",
            " 3583760.73910778 2617088.69562805 5363213.38779685 3356660.22271465\n",
            " 6816684.05012762 6313119.07628192 2992209.31674051 2670684.83809055\n",
            " 6921863.27136621 3495442.71259809 3328390.41709443 6873203.43108163\n",
            " 2908683.1868521  3966901.56014539 3603579.76511906 5859767.94461956\n",
            " 6679590.32321093 5144695.24072354 3313452.05508356 5318997.34108252\n",
            " 3941016.77578236 4075654.5409192  3137292.6744327  9795490.81381429\n",
            " 5302058.79399465 7122862.71609596 4582110.88414983 3195938.31891267\n",
            " 3454893.20440459 4177418.80329133 3688857.69160931 5973564.13666446\n",
            " 8632070.91656844 3132698.03219708 3821318.93302196 3913236.83485235\n",
            " 3442857.86131709 2945841.48750516 2600281.83218925 3574825.44088465\n",
            " 6070880.52991418 3473804.60651915 8683568.78487268 5882495.35740061\n",
            " 5066527.19360745 6287555.64471302 5859453.29214429 5174686.81751574\n",
            " 5938032.98839789 4575272.90141986 5663436.53527086 4834064.16176261\n",
            " 3536280.89129753 3963350.72247444 2968129.88185959 4073782.80828036\n",
            " 7894196.09195686 5052515.2918516  5593651.58228585 5241917.97432634\n",
            " 4145917.90060415 3981950.65194094 4517584.26273478 2617456.3163088\n",
            " 4713730.55002256 5243173.72163002 4605937.8479729  6020951.45172458\n",
            " 5107357.84831065 4935380.88100319 5333522.4648655  2975882.20905525\n",
            " 5774683.49150542 3329048.30289575 5173630.44002057 3556844.65173336\n",
            " 6954245.18953634 3853693.71467631 7978099.55269442 5859177.01826179\n",
            " 3612111.03726191 5508801.64012953 5725159.41038199 5706648.76774563\n",
            " 8375233.08803242 5577724.6225445  3933373.86002357 7140621.09282614\n",
            " 3706880.51461916 2449766.98277954 4829217.97119361 6601107.02497414\n",
            " 3295156.30487588 3368925.70998736 3755631.53282658 6893941.1007297\n",
            " 4998682.12885986 2842064.30441222 3152417.20658999 2711908.69255896\n",
            " 4817261.3413971  3230185.55992173 7719790.75895265 5049025.48063114\n",
            " 3392595.33418859 3213490.63631678 8304807.97655079 7127705.09293188\n",
            " 4698436.66999303 5487026.28052927 4022167.94567394 5623858.48299854\n",
            " 6930288.1653788  4644768.1870557  2972110.1738093  5635625.62695901\n",
            " 6005208.70705298 7843311.41636554 3763340.84107871 5308046.85388668\n",
            " 6265072.81797748 3726431.34150342 5453230.03234577 2341969.22626155\n",
            " 5436874.51066717 8742730.12503424 4073499.54238473 7702845.5531987\n",
            " 7572996.66078253 4820492.55218165 4762058.7367231  4060574.09339551\n",
            " 4271138.26780091 3576811.12972213 4006251.18813686 6767909.29894337\n",
            " 6354763.74093007 5016890.35620168 6658270.20812327 6338333.822225\n",
            " 3648085.88171502 5758476.73535519 4154141.63036885 3021657.0437168\n",
            " 3861586.4601023  4356568.70073696 4030771.14015687 5040018.95699534\n",
            " 5951394.69444359 6541673.81396819 3987552.18593129 4220307.14988679\n",
            " 3931808.54556446 2532982.95836771 4999773.25406595 5767903.11311463\n",
            " 3182188.71252868 2862880.42291224 3806890.43179788 4075595.25591276\n",
            " 2361298.47915443 7084980.6268604  3610596.24237647 4974922.1726807\n",
            " 5249407.90030603 7489716.51134523 5649786.36237051 5376091.75927683\n",
            " 4092801.64487863 4817627.28034876 3854351.1157626  3392595.33418859\n",
            " 7270805.84400686 3736131.89822823 6491980.81043103 4010273.02081678\n",
            " 3279140.18512365 3146469.74416141 3497594.45623347 3096657.72516033\n",
            " 6446599.74510385 4947524.85001092 2566875.85444043 5995509.10891486\n",
            " 3421539.88148319 7218090.61084348 3330993.58589317 6620938.13920089\n",
            " 5070552.07714371 3273395.74871454 3665939.05559526 4671529.24438425\n",
            " 3189699.88854961 4697727.79890302 5851108.1316838  4171381.09327141\n",
            " 5706279.36399556 3310136.90078119 4491992.75198256 3706766.55362358\n",
            " 3639921.3289503  4876647.24009164 6496761.08814149 4609575.86907708\n",
            " 4098267.25585593 4291596.53630854 4265964.2885218  3296358.66230499\n",
            " 5315481.18192241 3425056.04064331 2906594.2717623  3278884.30903782\n",
            " 6796056.57107804 7033536.26005148 3235793.62042395 2811937.0707693\n",
            " 3683480.58640486 4210697.00014347 4503291.52559105 4987779.82199279\n",
            " 6508637.18858575 3534251.59774456 3154016.01203099 6040786.24336312]\n"
          ]
        }
      ]
    },
    {
      "cell_type": "code",
      "source": [
        "reg.score(x,y)"
      ],
      "metadata": {
        "colab": {
          "base_uri": "https://localhost:8080/"
        },
        "id": "YwhOUbPUEoEn",
        "outputId": "cafad599-2a28-46fa-bcf0-6cbe84e1f358"
      },
      "execution_count": null,
      "outputs": [
        {
          "output_type": "execute_result",
          "data": {
            "text/plain": [
              "0.5921908859782612"
            ]
          },
          "metadata": {},
          "execution_count": 17
        }
      ]
    },
    {
      "cell_type": "code",
      "source": [
        "np.median(data.price)"
      ],
      "metadata": {
        "colab": {
          "base_uri": "https://localhost:8080/"
        },
        "id": "qOfukYfC379L",
        "outputId": "977c3539-236e-4100-8d73-e19562857189"
      },
      "execution_count": null,
      "outputs": [
        {
          "output_type": "execute_result",
          "data": {
            "text/plain": [
              "4340000.0"
            ]
          },
          "metadata": {},
          "execution_count": 17
        }
      ]
    },
    {
      "cell_type": "code",
      "source": [
        "round(100*(data.bedrooms.isnull().sum(axis=0)/data.shape[0]),2)"
      ],
      "metadata": {
        "colab": {
          "base_uri": "https://localhost:8080/"
        },
        "id": "1WWVfzgn4Kk6",
        "outputId": "96f9b883-1693-426d-bc5c-2821189365db"
      },
      "execution_count": null,
      "outputs": [
        {
          "output_type": "execute_result",
          "data": {
            "text/plain": [
              "0.0"
            ]
          },
          "metadata": {},
          "execution_count": 20
        }
      ]
    },
    {
      "cell_type": "markdown",
      "source": [],
      "metadata": {
        "id": "qevtcpWf1NF5"
      }
    },
    {
      "cell_type": "code",
      "source": [
        "data.plot.scatter(x='parking',y=\"price\",c='red')"
      ],
      "metadata": {
        "colab": {
          "base_uri": "https://localhost:8080/",
          "height": 308
        },
        "id": "Lrhw2CWm0xh4",
        "outputId": "455a463d-140c-45e7-9b35-4fd463dd3d3b"
      },
      "execution_count": null,
      "outputs": [
        {
          "output_type": "execute_result",
          "data": {
            "text/plain": [
              "<matplotlib.axes._subplots.AxesSubplot at 0x7f62c5cd3550>"
            ]
          },
          "metadata": {},
          "execution_count": 7
        },
        {
          "output_type": "display_data",
          "data": {
            "text/plain": [
              "<Figure size 432x288 with 1 Axes>"
            ],
            "image/png": "[encoded data removed]"
          },
          "metadata": {
            "needs_background": "light"
          }
        }
      ]
    },
    {
      "cell_type": "code",
      "source": [
        "snr.heatmap(data[['bedrooms','price']].corr(),annot=True)"
      ],
      "metadata": {
        "colab": {
          "base_uri": "https://localhost:8080/",
          "height": 287
        },
        "id": "bQNBASQ8158J",
        "outputId": "eaaa7770-a6bf-41a3-bae0-e88a01ae57ae"
      },
      "execution_count": null,
      "outputs": [
        {
          "output_type": "execute_result",
          "data": {
            "text/plain": [
              "<matplotlib.axes._subplots.AxesSubplot at 0x7f62c2fa4b50>"
            ]
          },
          "metadata": {},
          "execution_count": 9
        },
        {
          "output_type": "display_data",
          "data": {
            "text/plain": [
              "<Figure size 432x288 with 2 Axes>"
            ],
            "image/png": "[encoded data removed]"
          },
          "metadata": {
            "needs_background": "light"
          }
        }
      ]
    },
    {
      "cell_type": "code",
      "source": [
        "data['parking'].diff().plot(kind='hist',bins=200)"
      ],
      "metadata": {
        "colab": {
          "base_uri": "https://localhost:8080/",
          "height": 283
        },
        "id": "reW7AfQpAgAV",
        "outputId": "69d0659a-1d94-4570-9d88-e93665215c2e"
      },
      "execution_count": null,
      "outputs": [
        {
          "output_type": "execute_result",
          "data": {
            "text/plain": [
              "<matplotlib.axes._subplots.AxesSubplot at 0x7f035f6fa550>"
            ]
          },
          "metadata": {},
          "execution_count": 4
        },
        {
          "output_type": "display_data",
          "data": {
            "text/plain": [
              "<Figure size 432x288 with 1 Axes>"
            ],
            "image/png": "[encoded data removed]"
          },
          "metadata": {
            "needs_background": "light"
          }
        }
      ]
    },
    {
      "cell_type": "code",
      "source": [
        "data['price'].plot(kind=\"box\")\n",
        "np.quantile(data['price'],0.25),np.quantile(data.price,0.50)"
      ],
      "metadata": {
        "colab": {
          "base_uri": "https://localhost:8080/",
          "height": 294
        },
        "id": "7uX9S1H3BMt3",
        "outputId": "3ea8e956-3692-4a69-9457-a3547584a6b9"
      },
      "execution_count": null,
      "outputs": [
        {
          "output_type": "execute_result",
          "data": {
            "text/plain": [
              "(3430000.0, 4340000.0)"
            ]
          },
          "metadata": {},
          "execution_count": 14
        },
        {
          "output_type": "display_data",
          "data": {
            "text/plain": [
              "<Figure size 432x288 with 1 Axes>"
            ],
            "image/png": "[encoded data removed]"
          },
          "metadata": {
            "needs_background": "light"
          }
        }
      ]
    },
    {
      "cell_type": "code",
      "source": [
        "data['area'].plot(kind='box')\n",
        "x=np.min(data[\"area\"])\n",
        "y=np.max(data.area)\n",
        "print(x)\n",
        "print(y)"
      ],
      "metadata": {
        "colab": {
          "base_uri": "https://localhost:8080/",
          "height": 302
        },
        "id": "Jiuhe1IX0fJY",
        "outputId": "14a20161-d966-4d3b-b720-af076be64d17"
      },
      "execution_count": null,
      "outputs": [
        {
          "output_type": "stream",
          "name": "stdout",
          "text": [
            "1650\n",
            "16200\n"
          ]
        },
        {
          "output_type": "display_data",
          "data": {
            "text/plain": [
              "<Figure size 432x288 with 1 Axes>"
            ],
            "image/png": "[encoded data removed]"
          },
          "metadata": {
            "needs_background": "light"
          }
        }
      ]
    }
  ]
}